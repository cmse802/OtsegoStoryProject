{
 "cells": [
  {
   "cell_type": "markdown",
   "metadata": {},
   "source": [
    "## IMPORTS"
   ]
  },
  {
   "cell_type": "code",
   "execution_count": 1,
   "metadata": {
    "scrolled": true
   },
   "outputs": [],
   "source": [
    "from facebook_page_scraper import Facebook_scraper\n",
    "from dotenv import load_dotenv\n",
    "import os\n",
    "from selenium import webdriver\n",
    "from selenium.webdriver.firefox.service import Service"
   ]
  },
  {
   "cell_type": "markdown",
   "metadata": {},
   "source": [
    "## WEB CONFIGS"
   ]
  },
  {
   "cell_type": "code",
   "execution_count": 2,
   "metadata": {},
   "outputs": [],
   "source": [
    "# Specify the correct Geckodriver path\n",
    "GECKODRIVER_PATH = \"/usr/local/bin/geckodriver\"  # Adjust as needed\n",
    "\n",
    "# Configure Firefox options\n",
    "options = webdriver.FirefoxOptions()\n",
    "options.binary_location = \"/Applications/Firefox.app/Contents/MacOS/firefox\"\n",
    "# options.add_argument(\"--headless\")  # Optional: Remove this line if you want to see the browser\n",
    "\n",
    "# Start Selenium WebDriver manually\n",
    "service = Service(GECKODRIVER_PATH)\n",
    "driver = webdriver.Firefox(service=service, options=options)"
   ]
  },
  {
   "cell_type": "markdown",
   "metadata": {},
   "source": [
    "## LOGINS"
   ]
  },
  {
   "cell_type": "code",
   "execution_count": 3,
   "metadata": {},
   "outputs": [
    {
     "name": "stdout",
     "output_type": "stream",
     "text": [
      "Email loaded: True, Password loaded: True\n"
     ]
    }
   ],
   "source": [
    "# Load .env file\n",
    "load_dotenv(\"logins.env\")\n",
    "\n",
    "# Facebook credentials from environment variables\n",
    "fb_email = os.getenv('FACEBOOK_EMAIL')\n",
    "fb_password = os.getenv('FACEBOOK_PASSWORD')\n",
    "\n",
    "# Quick check\n",
    "print(f\"Email loaded: {fb_email is not None}, Password loaded: {fb_password is not None}\")"
   ]
  },
  {
   "cell_type": "markdown",
   "metadata": {},
   "source": [
    "## SCRAPER SETTINGS"
   ]
  },
  {
   "cell_type": "code",
   "execution_count": 4,
   "metadata": {},
   "outputs": [],
   "source": [
    "# Facebook scraping parameters\n",
    "page_group_or_name = 1996906587229548\n",
    "posts_count = 10  # Adjust as needed\n",
    "browser = \"firefox\"\n",
    "proxy = None\n",
    "timeout = 600 # Seconds, important bc you need to login during window\n",
    "headless = False  # Should match WebDriver options, please do this so you can log in\n",
    "isGroup = True"
   ]
  },
  {
   "cell_type": "markdown",
   "metadata": {},
   "source": [
    "## RUN SCRAPER"
   ]
  },
  {
   "cell_type": "code",
   "execution_count": 5,
   "metadata": {},
   "outputs": [],
   "source": [
    "scraper = Facebook_scraper(\n",
    "    page_group_or_name,\n",
    "    posts_count,\n",
    "    browser,\n",
    "    proxy=proxy,\n",
    "    timeout=timeout,\n",
    "    headless=headless,\n",
    "    isGroup=isGroup,\n",
    "    username=fb_email,\n",
    "    password=fb_password\n",
    ")"
   ]
  },
  {
   "cell_type": "code",
   "execution_count": 8,
   "metadata": {},
   "outputs": [
    {
     "name": "stderr",
     "output_type": "stream",
     "text": [
      "2025-03-30 22:50:04,351 - facebook_page_scraper.element_finder - ERROR - Error at login: Message: \n",
      "Stacktrace:\n",
      "RemoteError@chrome://remote/content/shared/RemoteError.sys.mjs:8:8\n",
      "WebDriverError@chrome://remote/content/shared/webdriver/Errors.sys.mjs:197:5\n",
      "NoSuchElementError@chrome://remote/content/shared/webdriver/Errors.sys.mjs:527:5\n",
      "dom.find/</<@chrome://remote/content/shared/DOM.sys.mjs:136:16\n",
      "Traceback (most recent call last):\n",
      "  File \"/Users/aleezarao/.local/lib/python3.12/site-packages/facebook_page_scraper/element_finder.py\", line 505, in __login\n",
      "    WebDriverWait(driver, 2).until(EC.element_to_be_clickable((By.CSS_SELECTOR, \"button[type='submit']\"))).click()\n",
      "    ^^^^^^^^^^^^^^^^^^^^^^^^^^^^^^^^^^^^^^^^^^^^^^^^^^^^^^^^^^^^^^^^^^^^^^^^^^^^^^^^^^^^^^^^^^^^^^^^^^^^^^\n",
      "  File \"/Users/aleezarao/.local/lib/python3.12/site-packages/selenium/webdriver/support/wait.py\", line 89, in until\n",
      "    raise TimeoutException(message, screen, stacktrace)\n",
      "selenium.common.exceptions.TimeoutException: Message: \n",
      "Stacktrace:\n",
      "RemoteError@chrome://remote/content/shared/RemoteError.sys.mjs:8:8\n",
      "WebDriverError@chrome://remote/content/shared/webdriver/Errors.sys.mjs:197:5\n",
      "NoSuchElementError@chrome://remote/content/shared/webdriver/Errors.sys.mjs:527:5\n",
      "dom.find/</<@chrome://remote/content/shared/DOM.sys.mjs:136:16\n",
      "\n",
      "\n",
      "During handling of the above exception, another exception occurred:\n",
      "\n",
      "Traceback (most recent call last):\n",
      "  File \"/Users/aleezarao/.local/lib/python3.12/site-packages/facebook_page_scraper/element_finder.py\", line 508, in __login\n",
      "    WebDriverWait(driver, 2).until(EC.element_to_be_clickable((By.CSS_SELECTOR, \"button\"))).click()\n",
      "    ^^^^^^^^^^^^^^^^^^^^^^^^^^^^^^^^^^^^^^^^^^^^^^^^^^^^^^^^^^^^^^^^^^^^^^^^^^^^^^^^^^^^^^^\n",
      "  File \"/Users/aleezarao/.local/lib/python3.12/site-packages/selenium/webdriver/support/wait.py\", line 89, in until\n",
      "    raise TimeoutException(message, screen, stacktrace)\n",
      "selenium.common.exceptions.TimeoutException: Message: \n",
      "Stacktrace:\n",
      "RemoteError@chrome://remote/content/shared/RemoteError.sys.mjs:8:8\n",
      "WebDriverError@chrome://remote/content/shared/webdriver/Errors.sys.mjs:197:5\n",
      "NoSuchElementError@chrome://remote/content/shared/webdriver/Errors.sys.mjs:527:5\n",
      "dom.find/</<@chrome://remote/content/shared/DOM.sys.mjs:136:16\n",
      "\n"
     ]
    },
    {
     "name": "stdout",
     "output_type": "stream",
     "text": [
      "new layout loaded\n"
     ]
    },
    {
     "name": "stderr",
     "output_type": "stream",
     "text": [
      "2025-03-30 22:50:29,782 - facebook_page_scraper.driver_utilities - ERROR - Error at close_modern_layout_signup_modal: Message: Element <div class=\"x1i10hfl xjqpnuy xa49m3k xqeqjp1 x2hbi6w x13fuv20 xu3j5b3 x1q0q8m5 x26u7qi x1ypdohk xdl72j9 x2lah0s xe8uvvx xdj266r x11i5rnm xat24cr x1mh8g0r x2lwn1j xeuugli x16tdsg8 x1hl2dhg xggy1nq x1ja2u2z x1t137rt x1q0g3np x87ps6o x1lku1pv x1a2a7pz x6s0dn4 xzolkzo x12go9s9 x1rnf11y xprq8jg x972fbf xcfux6l x1qhh985 xm0m39n x9f619 x78zum5 xl56j7k xexx8yu x4uap5 x18d9i69 xkhd6sd x1n2onr6 x10w6t97 x1td3qas x1qhmfi1\"> could not be scrolled into view\n",
      "Stacktrace:\n",
      "RemoteError@chrome://remote/content/shared/RemoteError.sys.mjs:8:8\n",
      "WebDriverError@chrome://remote/content/shared/webdriver/Errors.sys.mjs:197:5\n",
      "ElementNotInteractableError@chrome://remote/content/shared/webdriver/Errors.sys.mjs:359:5\n",
      "webdriverClickElement@chrome://remote/content/marionette/interaction.sys.mjs:167:11\n",
      "interaction.clickElement@chrome://remote/content/marionette/interaction.sys.mjs:136:11\n",
      "clickElement@chrome://remote/content/marionette/actors/MarionetteCommandsChild.sys.mjs:344:29\n",
      "receiveMessage@chrome://remote/content/marionette/actors/MarionetteCommandsChild.sys.mjs:220:31\n",
      "Traceback (most recent call last):\n",
      "  File \"/Users/aleezarao/.local/lib/python3.12/site-packages/facebook_page_scraper/driver_utilities.py\", line 74, in __close_modern_layout_signup_modal\n",
      "    close_button.click()\n",
      "  File \"/Users/aleezarao/.local/lib/python3.12/site-packages/selenium/webdriver/remote/webelement.py\", line 81, in click\n",
      "    self._execute(Command.CLICK_ELEMENT)\n",
      "  File \"/Users/aleezarao/.local/lib/python3.12/site-packages/selenium/webdriver/remote/webelement.py\", line 710, in _execute\n",
      "    return self._parent.execute(command, params)\n",
      "           ^^^^^^^^^^^^^^^^^^^^^^^^^^^^^^^^^^^^^\n",
      "  File \"/Users/aleezarao/.local/lib/python3.12/site-packages/selenium/webdriver/remote/webdriver.py\", line 424, in execute\n",
      "    self.error_handler.check_response(response)\n",
      "  File \"/Users/aleezarao/.local/lib/python3.12/site-packages/selenium/webdriver/remote/errorhandler.py\", line 247, in check_response\n",
      "    raise exception_class(message, screen, stacktrace)\n",
      "selenium.common.exceptions.ElementNotInteractableException: Message: Element <div class=\"x1i10hfl xjqpnuy xa49m3k xqeqjp1 x2hbi6w x13fuv20 xu3j5b3 x1q0q8m5 x26u7qi x1ypdohk xdl72j9 x2lah0s xe8uvvx xdj266r x11i5rnm xat24cr x1mh8g0r x2lwn1j xeuugli x16tdsg8 x1hl2dhg xggy1nq x1ja2u2z x1t137rt x1q0g3np x87ps6o x1lku1pv x1a2a7pz x6s0dn4 xzolkzo x12go9s9 x1rnf11y xprq8jg x972fbf xcfux6l x1qhh985 xm0m39n x9f619 x78zum5 xl56j7k xexx8yu x4uap5 x18d9i69 xkhd6sd x1n2onr6 x10w6t97 x1td3qas x1qhmfi1\"> could not be scrolled into view\n",
      "Stacktrace:\n",
      "RemoteError@chrome://remote/content/shared/RemoteError.sys.mjs:8:8\n",
      "WebDriverError@chrome://remote/content/shared/webdriver/Errors.sys.mjs:197:5\n",
      "ElementNotInteractableError@chrome://remote/content/shared/webdriver/Errors.sys.mjs:359:5\n",
      "webdriverClickElement@chrome://remote/content/marionette/interaction.sys.mjs:167:11\n",
      "interaction.clickElement@chrome://remote/content/marionette/interaction.sys.mjs:136:11\n",
      "clickElement@chrome://remote/content/marionette/actors/MarionetteCommandsChild.sys.mjs:344:29\n",
      "receiveMessage@chrome://remote/content/marionette/actors/MarionetteCommandsChild.sys.mjs:220:31\n",
      "\n"
     ]
    }
   ],
   "source": [
    "json_data = scraper.scrap_to_json()"
   ]
  },
  {
   "cell_type": "code",
   "execution_count": 9,
   "metadata": {},
   "outputs": [
    {
     "name": "stdout",
     "output_type": "stream",
     "text": [
      "{\"100064901131523\": {\"name\": \"Justice for Otsego\", \"content\": \"Hey everyone! Just wanted to give an update. We are working to create JFO as a nonprofit. It’s currently in the works and coming soon. We are still working with the Otsego Story Project team through MSU and working on lots of plans for that. Stay tuned and I will give more detailed updates as I learn more. Thanks for sticking with us. Christina\", \"images\": [], \"post_url\": \"https://www.facebook.com/groups/1996906587229548/user/100064901131523/\"}, \"1335492083\": {\"name\": \"Cinthia Williams\", \"content\": \"\", \"images\": [\"https://scontent-det1-1.xx.fbcdn.net/v/t39.30808-6/482247780_10236038111756513_2952223678371818838_n.jpg?stp=c361.0.2496.1303a_dst-jpg_s1080x2048_tt6&_nc_cat=101&ccb=1-7&_nc_sid=75d36f&_nc_ohc=uWLWcCjqtA8Q7kNvgHeQiFo&_nc_oc=Admyzo8PANceL_JnFQ5ThZhdhmXVkGJwKrThlp7PwIlvzLqpdSQrMLDD8ydpowfEmgo&_nc_zt=23&_nc_ht=scontent-det1-1.xx&_nc_gid=-yPeHUW9GsOWCT0B9MS2Ug&oh=00_AYGs4HjPvxs6yfxab61sVP_zAVcCMAaeZiC0Lqgh3wT-qw&oe=67EFDF3A\"], \"post_url\": \"https://www.facebook.com/groups/1996906587229548/user/1335492083/\"}, \"1083986702\": {\"name\": \"Christina DeGrush\", \"content\": \"Does anyone here live on Helen Ave. in Otsego that would be willing to let myself and some people working on the Otsego Story Project from MSU get a water sample from your tap that does not have reverse osmosis in your home? We would need to get it between 3-4pm tomorrow on Sunday the 23rd. Sorry this is last minute. Anyone willing to help would be greatly appreciated. If you do not want to volunteer here please feel free to contact me via private message. Thank you so much!!\", \"images\": [], \"post_url\": \"https://www.facebook.com/groups/1996906587229548/user/1083986702/\"}, \"1345494790\": {\"name\": \"Iris Potter\", \"content\": \"https://share.newsbreak.com/c9cuvrrh?s=i16.   (NewsBreak is easy & free to download). Thinking of you all in Otsego. \", \"images\": [\"https://external-det1-1.xx.fbcdn.net/emg1/v/t13/4021921496730039646?url=https%3A%2F%2Fimg.particlenews.com%2Fimg%2Fid%2F4eA7EC_0zuoy5Wg00&fb_obo=1&utld=particlenews.com&stp=c0.5000x0.5000f_dst-jpg_flffffff_p640x334_q75_tt6&_nc_oc=Adn0QkM7b-7btYd2JjezSq-X2GRMc2wIqn4YxOlHQqy2-ob2A8SaIvNyFh4f97KrEKg&ccb=13-1&oh=06_Q39-QKHL785oPGEcDygQCGMS_7RqnfFmmhAh8Vq2AqU00DE&oe=67EBD1DA&_nc_sid=085657\"], \"post_url\": \"https://www.facebook.com/groups/1996906587229548/user/1345494790/\"}, \"61564844052738\": {\"name\": \"Genevieve Wrobleski\", \"content\": \"Hi everyone. There have been quite a few requests for more JFO merchandise. There will be another opportunity in the upcoming months. We are going to allow family and friends to grieve and rest. When the store reopens it will be posted here. All proceeds from the merchandise will go to honor Mary through the Mary Zack Scholarship Fund. \", \"images\": [], \"post_url\": \"https://www.facebook.com/groups/1996906587229548/user/61564844052738/\"}, \"100062753060146\": {\"name\": \"Ojon Viché\", \"content\": \"In honor and memory of our founder; Mary Zack was born in southwest Michigan and spent her childhood in Otsego. In 1997, at the age of 17, she was diagnosed with stage IV germ cell ovarian cancer, marking a pivotal moment in her life as a member of the class of 1999.In 2018, Mary founded Justice For Otsego after witnessing many of her classmates, family, and friends fall victim to various rare cancers and illnesses. Throughout her journey, she received invaluable support from Erin Brockovich, which helped her delve into the root causes of these health issues affecting the Otsego community. Over the past seven years, Mary has tirelessly uncovered critical information about illegal dumping, pollution, and the methods used to spread toxic waste along county roads. Her findings revealed the presence of harmful substances like PFOS, PFAS, and dioxins, which have likely contributed to the generational health crises in the area, with evidence of toxic waste dumping dating back to the 1960s.As an advocate and activist, Mary maintained her remission until early spring 2022, when she was diagnosed with a rare form of lung cancer called KRAS 12-D mutation, which metastasized to her bones, and ultimately resulted in Leptomeningeal disease. Rather than deter her, this diagnosis fueled her determination to seek further answers.Mary collaborated with the Toxic Action Lab at Michigan State University, securing a $500,000 grant to advance research on the health impacts in Otsego and neighboring communities.On March 1, 2025, after a courageous three-year battle with cancer, Mary passed away, leaving behind a powerful legacy aimed at preventing illness and safeguarding the health of future generations in Otsego and beyond.Mary is remembered as a hero and a legend, deeply missed by her family, friends, and the entire community.\", \"images\": [], \"post_url\": \"https://www.facebook.com/groups/1996906587229548/user/100062753060146/\"}, \"1116350272\": {\"name\": \"Tera Fisher Kinnane\", \"content\": \"If you ordered a Justice For Otsego shirt from B & C Trophy, they are done and ready to be picked up. Emails were sent a week or so ago but sometimes they like to go to your spam file. *Note tomorrow 2/28 we will only be open until noon\", \"images\": [], \"post_url\": \"https://www.facebook.com/groups/1996906587229548/user/1116350272/\"}, \"100000703262458\": {\"name\": \"Joni Pierce\", \"content\": \"Did anyone get a letter about not drinking/cooking with water in Otsego. Particularly Morrell St.?\", \"images\": [], \"post_url\": \"https://www.facebook.com/groups/1996906587229548/user/100000703262458/\"}, \"1422506641\": {\"name\": \"Wendy Strobel Sines\", \"content\": \"I got a letter from city of otsego Stating not to drink or cook with the Water because of the lead content in the pipes. This infuriates me... What is going on .\", \"images\": [], \"post_url\": \"https://www.facebook.com/groups/1996906587229548/user/1422506641/\"}, \"1347701250\": {\"name\": \"Beth Marcus\", \"content\": \"I haven't watched this yet, but thought it sounded familiar. Not sure if it will help Otsego in anyway, but thought I'd pass it on.  It's called Toxic Town and it just hit Netflix. \", \"images\": [\"https://external-det1-1.xx.fbcdn.net/emg1/v/t13/10197400767868675997?url=https%3A%2F%2Fs.yimg.com%2Fny%2Fapi%2Fres%2F1.2%2Fs9mxCgx201b3rlmCojMEPQ--%2FYXBwaWQ9aGlnaGxhbmRlcjt3PTEyMDA7aD02NzU-%2Fhttps%3A%2F%2Fmedia.zenfs.com%2Fen%2Fwhat_to_watch_186%2F0648129eea0b1090a94dfb40e8f28398&fb_obo=1&utld=yimg.com&stp=c0.5000x0.5000f_dst-jpg_flffffff_p1000x522_q75_tt6&_nc_oc=AdkceW9X3FYiioLM-TOxS123V0R0qTBideptXXZhKEJdAqalVFbVVqAxGeX9tmMH8K4&ccb=13-1&oh=06_Q39-7s5VnGel7p3c5PU1DprryLSqpdiE-kFjqCuXOkcgW1o&oe=67EBF640&_nc_sid=085657\"], \"post_url\": \"https://www.facebook.com/groups/1996906587229548/user/1347701250/\"}}\n"
     ]
    }
   ],
   "source": [
    "print(json_data)"
   ]
  },
  {
   "cell_type": "code",
   "execution_count": 10,
   "metadata": {},
   "outputs": [
    {
     "name": "stdout",
     "output_type": "stream",
     "text": [
      "Individual Post Sentiment:\n",
      "\n",
      "Post: Hey everyone! Just wanted to give an update. We are working to create JFO as a nonprofit. It’s currently in the works and coming soon. We are still working with the Otsego Story Project team through MSU and working on lots of plans for that. Stay tuned and I will give more detailed updates as I learn more. Thanks for sticking with us. Christina\n",
      "Scores: {'neg': 0.0, 'neu': 0.914, 'pos': 0.086, 'compound': 0.6793}\n",
      "\n",
      "Post: \n",
      "Scores: {'neg': 0.0, 'neu': 0.0, 'pos': 0.0, 'compound': 0.0}\n",
      "\n",
      "Post: Does anyone here live on Helen Ave. in Otsego that would be willing to let myself and some people working on the Otsego Story Project from MSU get a water sample from your tap that does not have reverse osmosis in your home? We would need to get it between 3-4pm tomorrow on Sunday the 23rd. Sorry this is last minute. Anyone willing to help would be greatly appreciated. If you do not want to volunteer here please feel free to contact me via private message. Thank you so much!!\n",
      "Scores: {'neg': 0.025, 'neu': 0.824, 'pos': 0.151, 'compound': 0.9254}\n",
      "\n",
      "Post: https://share.newsbreak.com/c9cuvrrh?s=i16.   (NewsBreak is easy & free to download). Thinking of you all in Otsego.\n",
      "Scores: {'neg': 0.0, 'neu': 0.64, 'pos': 0.36, 'compound': 0.7351}\n",
      "\n",
      "Post: Hi everyone. There have been quite a few requests for more JFO merchandise. There will be another opportunity in the upcoming months. We are going to allow family and friends to grieve and rest. When the store reopens it will be posted here. All proceeds from the merchandise will go to honor Mary through the Mary Zack Scholarship Fund.\n",
      "Scores: {'neg': 0.039, 'neu': 0.796, 'pos': 0.165, 'compound': 0.8126}\n",
      "\n",
      "Post: In honor and memory of our founder; Mary Zack was born in southwest Michigan and spent her childhood in Otsego. In 1997, at the age of 17, she was diagnosed with stage IV germ cell ovarian cancer, marking a pivotal moment in her life as a member of the class of 1999.In 2018, Mary founded Justice For Otsego after witnessing many of her classmates, family, and friends fall victim to various rare cancers and illnesses. Throughout her journey, she received invaluable support from Erin Brockovich, which helped her delve into the root causes of these health issues affecting the Otsego community. Over the past seven years, Mary has tirelessly uncovered critical information about illegal dumping, pollution, and the methods used to spread toxic waste along county roads. Her findings revealed the presence of harmful substances like PFOS, PFAS, and dioxins, which have likely contributed to the generational health crises in the area, with evidence of toxic waste dumping dating back to the 1960s.As an advocate and activist, Mary maintained her remission until early spring 2022, when she was diagnosed with a rare form of lung cancer called KRAS 12-D mutation, which metastasized to her bones, and ultimately resulted in Leptomeningeal disease. Rather than deter her, this diagnosis fueled her determination to seek further answers.Mary collaborated with the Toxic Action Lab at Michigan State University, securing a $500,000 grant to advance research on the health impacts in Otsego and neighboring communities.On March 1, 2025, after a courageous three-year battle with cancer, Mary passed away, leaving behind a powerful legacy aimed at preventing illness and safeguarding the health of future generations in Otsego and beyond.Mary is remembered as a hero and a legend, deeply missed by her family, friends, and the entire community.\n",
      "Scores: {'neg': 0.129, 'neu': 0.759, 'pos': 0.111, 'compound': -0.7264}\n",
      "\n",
      "Post: If you ordered a Justice For Otsego shirt from B & C Trophy, they are done and ready to be picked up. Emails were sent a week or so ago but sometimes they like to go to your spam file. *Note tomorrow 2/28 we will only be open until noon\n",
      "Scores: {'neg': 0.063, 'neu': 0.797, 'pos': 0.14, 'compound': 0.4497}\n",
      "\n",
      "Post: Did anyone get a letter about not drinking/cooking with water in Otsego. Particularly Morrell St.?\n",
      "Scores: {'neg': 0.0, 'neu': 1.0, 'pos': 0.0, 'compound': 0.0}\n",
      "\n",
      "Post: I got a letter from city of otsego Stating not to drink or cook with the Water because of the lead content in the pipes. This infuriates me... What is going on .\n",
      "Scores: {'neg': 0.11, 'neu': 0.89, 'pos': 0.0, 'compound': -0.5574}\n",
      "\n",
      "Post: I haven't watched this yet, but thought it sounded familiar. Not sure if it will help Otsego in anyway, but thought I'd pass it on.  It's called Toxic Town and it just hit Netflix.\n",
      "Scores: {'neg': 0.066, 'neu': 0.838, 'pos': 0.096, 'compound': 0.2748}\n",
      "\n",
      "---------------------------------------------------------\n",
      "Total posts analyzed: 10\n",
      "Positive posts: 6\n",
      "Negative posts: 2\n",
      "Neutral posts:  2\n",
      "\n",
      "Overall Average Sentiment Scores (across all posts):\n",
      "  Compound: 0.259\n",
      "  Positive: 0.111\n",
      "  Negative: 0.043\n",
      "  Neutral:  0.746\n",
      "\n",
      "Conclusion:\n",
      "Overall sentiment is generally **positive**.\n"
     ]
    }
   ],
   "source": [
    "import json\n",
    "import nltk\n",
    "from nltk.sentiment.vader import SentimentIntensityAnalyzer\n",
    "sia = SentimentIntensityAnalyzer()\n",
    "data = json.loads(json_data)\n",
    "\n",
    "posts = []\n",
    "for key, value in data.items():\n",
    "    content = value.get(\"content\", \"\").strip()\n",
    "    posts.append(content)\n",
    "\n",
    "sia = SentimentIntensityAnalyzer()\n",
    "\n",
    "sentiment_results = []\n",
    "positive_count = 0\n",
    "negative_count = 0\n",
    "neutral_count = 0\n",
    "\n",
    "print(\"Individual Post Sentiment:\\n\")\n",
    "\n",
    "for post in posts:\n",
    "    scores = sia.polarity_scores(post)\n",
    "    sentiment_results.append(scores)\n",
    "    \n",
    "    print(f\"Post: {post}\")\n",
    "    print(f\"Scores: {scores}\\n\")\n",
    "    \n",
    "    compound = scores['compound']\n",
    "    if compound >= 0.05:\n",
    "        positive_count += 1\n",
    "    elif compound <= -0.05:\n",
    "        negative_count += 1\n",
    "    else:\n",
    "        neutral_count += 1\n",
    "\n",
    "n_posts = len(sentiment_results)\n",
    "if n_posts > 0:\n",
    "    avg_compound = sum(s['compound'] for s in sentiment_results) / n_posts\n",
    "    avg_pos = sum(s['pos'] for s in sentiment_results) / n_posts\n",
    "    avg_neg = sum(s['neg'] for s in sentiment_results) / n_posts\n",
    "    avg_neu = sum(s['neu'] for s in sentiment_results) / n_posts\n",
    "\n",
    "    print(\"---------------------------------------------------------\")\n",
    "    print(f\"Total posts analyzed: {n_posts}\")\n",
    "    print(f\"Positive posts: {positive_count}\")\n",
    "    print(f\"Negative posts: {negative_count}\")\n",
    "    print(f\"Neutral posts:  {neutral_count}\")\n",
    "    print(\"\\nOverall Average Sentiment Scores (across all posts):\")\n",
    "    print(f\"  Compound: {avg_compound:.3f}\")\n",
    "    print(f\"  Positive: {avg_pos:.3f}\")\n",
    "    print(f\"  Negative: {avg_neg:.3f}\")\n",
    "    print(f\"  Neutral:  {avg_neu:.3f}\")\n",
    "    print(\"\\nConclusion:\")\n",
    "    if avg_compound >= 0.05:\n",
    "        print(\"Overall sentiment is generally **positive**.\")\n",
    "    elif avg_compound <= -0.05:\n",
    "        print(\"Overall sentiment is generally **negative**.\")\n",
    "    else:\n",
    "        print(\"Overall sentiment is **neutral or mixed**.\")\n",
    "\n",
    "else:\n",
    "    print(\"No valid posts found for sentiment analysis.\")\n",
    "     \n",
    " "
   ]
  },
  {
   "cell_type": "code",
   "execution_count": 15,
   "metadata": {},
   "outputs": [],
   "source": [
    "# Store labeled posts\n",
    "labeled_posts = []\n",
    "\n",
    "for post in posts:\n",
    "    scores = sia.polarity_scores(post)\n",
    "    compound = scores['compound']\n",
    "    if compound >= 0.05:\n",
    "        sentiment = 'positive'\n",
    "    elif compound <= -0.05:\n",
    "        sentiment = 'negative'\n",
    "    else:\n",
    "        sentiment = 'neutral'\n",
    "    \n",
    "    labeled_posts.append({'post': post, 'sentiment': sentiment, **scores})\n"
   ]
  },
  {
   "cell_type": "code",
   "execution_count": 16,
   "metadata": {},
   "outputs": [],
   "source": [
    "# Convert to DataFrame\n",
    "import pandas as pd\n",
    "df = pd.DataFrame(labeled_posts)"
   ]
  },
  {
   "cell_type": "code",
   "execution_count": 18,
   "metadata": {},
   "outputs": [],
   "source": [
    "# Save to CSV\n",
    "import os\n",
    "os.makedirs(\"data\", exist_ok=True)\n",
    "df.to_csv(\"data/fb_sentiment_results.csv\", index=False)"
   ]
  },
  {
   "cell_type": "code",
   "execution_count": null,
   "metadata": {},
   "outputs": [],
   "source": []
  }
 ],
 "metadata": {
  "kernelspec": {
   "display_name": "Python 3 (ipykernel)",
   "language": "python",
   "name": "python3"
  },
  "language_info": {
   "codemirror_mode": {
    "name": "ipython",
    "version": 3
   },
   "file_extension": ".py",
   "mimetype": "text/x-python",
   "name": "python",
   "nbconvert_exporter": "python",
   "pygments_lexer": "ipython3",
   "version": "3.12.7"
  }
 },
 "nbformat": 4,
 "nbformat_minor": 4
}
