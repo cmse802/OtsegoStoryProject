{
 "cells": [
  {
   "cell_type": "code",
   "execution_count": 2,
   "metadata": {},
   "outputs": [],
   "source": [
    "from facebook_page_scraper import Facebook_scraper\n",
    "import os\n",
    "\n",
    "page_group_or_name = \"Justice for Otsego\"\n",
    "posts_count = 0\n",
    "browser = \"firefox\"\n",
    "proxy = None\n",
    "timeout = 600\n",
    "headless = True\n",
    "fb_password = os.getenv('FACEBOOK_PASSWORD')\n",
    "fb_email = os.getenv('FACEBOOK_EMAIL')\n",
    "is_private = True\n",
    "isGroup = True\n",
    "\n",
    "scraper = Facebook_scraper(\n",
    "  page_group_or_name, \n",
    "  posts_count, \n",
    "  browser, \n",
    "  proxy=proxy, \n",
    "  timeout=timeout, \n",
    "  headless=headless, \n",
    "  isGroup=isGroup,\n",
    "  username=fb_email,\n",
    "  password=fb_password\n",
    ")\n"
   ]
  },
  {
   "cell_type": "code",
   "execution_count": 3,
   "metadata": {},
   "outputs": [
    {
     "name": "stderr",
     "output_type": "stream",
     "text": [
      "[WDM] - Driver [/Users/uz/.wdm/drivers/geckodriver/macos/v0.36.0/geckodriver] found in cache\n",
      "2025-02-28 16:03:10,466 - facebook_page_scraper.driver_utilities - CRITICAL - No posts were found!\n"
     ]
    }
   ],
   "source": [
    "json_data = scraper.scrap_to_json()"
   ]
  },
  {
   "cell_type": "code",
   "execution_count": 4,
   "metadata": {},
   "outputs": [
    {
     "data": {
      "text/plain": [
       "'{}'"
      ]
     },
     "execution_count": 4,
     "metadata": {},
     "output_type": "execute_result"
    }
   ],
   "source": [
    "json_data"
   ]
  },
  {
   "cell_type": "code",
   "execution_count": null,
   "metadata": {},
   "outputs": [],
   "source": []
  },
  {
   "cell_type": "code",
   "execution_count": null,
   "metadata": {},
   "outputs": [],
   "source": [
    "import os\n",
    "\n",
    "page_or_group_name = \"409901703293362\"  # Overwatch community\n",
    "posts_count = 10  # Number of posts to scrape\n",
    "browser = \"firefox\"  # Browser to use\n",
    "proxy = \"IP:PORT\"  # Proxy details\n",
    "timeout = 600  # Timeout in seconds\n",
    "headless = True  # Run browser in headless mode\n",
    "isGroup = True  # Set to True for Facebook groups\n",
    " \n",
    "fb_password = os.getenv('FACEBOOK_PASSWORD')\n",
    "fb_email = os.getenv('FACEBOOK_EMAIL')"
   ]
  },
  {
   "cell_type": "code",
   "execution_count": null,
   "metadata": {},
   "outputs": [],
   "source": []
  }
 ],
 "metadata": {
  "kernelspec": {
   "display_name": ".venv",
   "language": "python",
   "name": "python3"
  },
  "language_info": {
   "codemirror_mode": {
    "name": "ipython",
    "version": 3
   },
   "file_extension": ".py",
   "mimetype": "text/x-python",
   "name": "python",
   "nbconvert_exporter": "python",
   "pygments_lexer": "ipython3",
   "version": "3.13.1"
  }
 },
 "nbformat": 4,
 "nbformat_minor": 2
}
