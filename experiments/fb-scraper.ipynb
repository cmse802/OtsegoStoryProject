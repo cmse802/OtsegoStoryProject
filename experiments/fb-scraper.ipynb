{
 "cells": [
  {
   "cell_type": "code",
   "execution_count": 3,
   "metadata": {},
   "outputs": [],
   "source": [
    "from facebook_page_scraper import Facebook_scraper\n",
    "import os\n",
    "\n",
    "page_group_or_name = \"409901703293362\" \n",
    "posts_count = 10\n",
    "browser = \"firefox\"\n",
    "proxy = \"IP:PORT\"\n",
    "timeout = 600\n",
    "fb_password = os.getenv('FACEBOOK_PASSWORD')\n",
    "fb_email = os.getenv('FACEBOOK_EMAIL')\n",
    "is_private = True\n",
    "isGroup = True\n",
    "\n",
    "scraper = Facebook_scraper(\n",
    "  page_group_or_name, \n",
    "  posts_count, \n",
    "  browser, \n",
    "  proxy=proxy, \n",
    "  timeout=timeout, \n",
    "  isGroup=isGroup,\n",
    "  username=fb_email,\n",
    "  password=fb_password\n",
    ")\n"
   ]
  },
  {
   "cell_type": "code",
   "execution_count": null,
   "metadata": {},
   "outputs": [
    {
     "name": "stderr",
     "output_type": "stream",
     "text": [
      "2025-03-23 19:31:13,735 - facebook_page_scraper.driver_initialization - INFO - Using: IP:PORT\n",
      "[WDM] - Driver [C:\\Users\\12488\\.wdm\\drivers\\geckodriver\\win64\\v0.36.0\\geckodriver.exe] found in cache\n"
     ]
    },
    {
     "name": "stdout",
     "output_type": "stream",
     "text": [
      "new layout loaded\n",
      "all_posts length: 4\n",
      "no post_url, skipping\n",
      "no post_url, skipping\n",
      "no post_url, skipping\n"
     ]
    }
   ],
   "source": [
    "json_data = scraper.scrap_to_json()"
   ]
  },
  {
   "cell_type": "code",
   "execution_count": null,
   "metadata": {},
   "outputs": [],
   "source": [
    "json_data"
   ]
  },
  {
   "cell_type": "code",
   "execution_count": null,
   "metadata": {},
   "outputs": [],
   "source": [
    "\n",
    "import json\n",
    "import nltk\n",
    "from nltk.sentiment.vader import SentimentIntensityAnalyzer\n",
    "sia = SentimentIntensityAnalyzer()\n",
    "data = json.loads(json_data)\n",
    "\n",
    "posts = []\n",
    "for key, value in data.items():\n",
    "    content = value.get(\"content\", \"\").strip()\n",
    "    posts.append(content)\n",
    "\n",
    "sia = SentimentIntensityAnalyzer()\n",
    "\n",
    "sentiment_results = []\n",
    "positive_count = 0\n",
    "negative_count = 0\n",
    "neutral_count = 0\n",
    "\n",
    "print(\"Individual Post Sentiment:\\n\")\n",
    "\n",
    "for post in posts:\n",
    "    scores = sia.polarity_scores(post)\n",
    "    sentiment_results.append(scores)\n",
    "    \n",
    "    print(f\"Post: {post}\")\n",
    "    print(f\"Scores: {scores}\\n\")\n",
    "    \n",
    "    compound = scores['compound']\n",
    "    if compound >= 0.05:\n",
    "        positive_count += 1\n",
    "    elif compound <= -0.05:\n",
    "        negative_count += 1\n",
    "    else:\n",
    "        neutral_count += 1\n",
    "\n",
    "n_posts = len(sentiment_results)\n",
    "if n_posts > 0:\n",
    "    avg_compound = sum(s['compound'] for s in sentiment_results) / n_posts\n",
    "    avg_pos = sum(s['pos'] for s in sentiment_results) / n_posts\n",
    "    avg_neg = sum(s['neg'] for s in sentiment_results) / n_posts\n",
    "    avg_neu = sum(s['neu'] for s in sentiment_results) / n_posts\n",
    "\n",
    "    print(\"---------------------------------------------------------\")\n",
    "    print(f\"Total posts analyzed: {n_posts}\")\n",
    "    print(f\"Positive posts: {positive_count}\")\n",
    "    print(f\"Negative posts: {negative_count}\")\n",
    "    print(f\"Neutral posts:  {neutral_count}\")\n",
    "    print(\"\\nOverall Average Sentiment Scores (across all posts):\")\n",
    "    print(f\"  Compound: {avg_compound:.3f}\")\n",
    "    print(f\"  Positive: {avg_pos:.3f}\")\n",
    "    print(f\"  Negative: {avg_neg:.3f}\")\n",
    "    print(f\"  Neutral:  {avg_neu:.3f}\")\n",
    "    print(\"\\nConclusion:\")\n",
    "    if avg_compound >= 0.05:\n",
    "        print(\"Overall sentiment is generally **positive**.\")\n",
    "    elif avg_compound <= -0.05:\n",
    "        print(\"Overall sentiment is generally **negative**.\")\n",
    "    else:\n",
    "        print(\"Overall sentiment is **neutral or mixed**.\")\n",
    "\n",
    "else:\n",
    "    print(\"No valid posts found for sentiment analysis.\")"
   ]
  },
  {
   "cell_type": "code",
   "execution_count": null,
   "metadata": {},
   "outputs": [],
   "source": []
  },
  {
   "cell_type": "code",
   "execution_count": null,
   "metadata": {},
   "outputs": [],
   "source": []
  }
 ],
 "metadata": {
  "kernelspec": {
   "display_name": "Python 3",
   "language": "python",
   "name": "python3"
  }
 },
 "nbformat": 4,
 "nbformat_minor": 2
}
