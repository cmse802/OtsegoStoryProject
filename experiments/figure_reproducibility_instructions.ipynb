{
 "cells": [
  {
   "cell_type": "markdown",
   "id": "3676adbf",
   "metadata": {},
   "source": [
    "\n",
    "# Facebook Post Sentiment Breakdown – Figure Instructions\n",
    "\n",
    "This notebook provides full instructions for generating sentiment analysis figures from Facebook group post data. These figures are included in the project presentation and final report to visually represent the distribution of sentiment in scraped Facebook posts.\n",
    "\n"
   ]
  },
  {
   "cell_type": "markdown",
   "id": "1ea5f6d2-2b50-403d-a5d2-0cabbc285a2d",
   "metadata": {},
   "source": [
    "## 1. Installation Instructions\n",
    "\n",
    "For full installation and setup steps, see the [README.md on GitHub](https://github.com/uzairname/OtsegoStoryProject/blob/main/README.md)\n"
   ]
  },
  {
   "cell_type": "markdown",
   "id": "4f212a25-19fd-41ef-82d1-2a36d7f5d13d",
   "metadata": {},
   "source": [
    "## 2. Data Retrieval\n",
    "\n",
    "First, obtain the Facebook posts data. You can use the scraping tool in `fb-scraper.ipynb` to generate raw post data (with columns like post content and timestamp). If real-time scraping is not feasible or you want to use prepared data, use the intermediate dataset,`otsego_data_combined.csv`, provided as a final deliverable of this project.\n",
    "\n",
    "This CSV contains scraped Facebook posts (author, timestamp, content, etc.). Ensure this file is present in the data/ directory of the project. It will be used for sentiment analysis and figure generation."
   ]
  },
  {
   "cell_type": "markdown",
   "id": "d2aa05d0-1e83-4c01-9730-3d268f7ccdd4",
   "metadata": {},
   "source": [
    "## 3. Data Loading and Sentiment Categorization\n"
   ]
  },
  {
   "cell_type": "markdown",
   "id": "6cac31d7-8894-4f3d-8421-58fb6e3e050b",
   "metadata": {},
   "source": [
    "In this section, we load the data and perform sentiment analysis using two methods:\n",
    "\n",
    "- VADER (Valence Aware Dictionary and sEntiment Reasoner): A rule-based sentiment analyzer from NLTK that provides a compound sentiment score between -1 (most negative) and 1 (most positive) for each post.\n",
    "- BERT-based model: A pre-trained transformer model (nlptown/bert-base-multilingual-uncased-sentiment) that predicts a star rating (1 to 5 stars) for each post, which we convert to a -1 to 1 scale for comparison with VADER.\n",
    "\n",
    "We will add the sentiment scores as new columns in our DataFrame (vader_compound and bert_compound). Before analysis, we also clean the data by parsing dates and handling missing content."
   ]
  },
  {
   "cell_type": "code",
   "execution_count": null,
   "id": "3435b6e4-c281-4fb0-a470-33dc33571f6a",
   "metadata": {},
   "outputs": [],
   "source": [
    "import pandas as pd\n",
    "import numpy as np\n",
    "import matplotlib.pyplot as plt\n",
    "\n",
    "# Sentiment analysis tools\n",
    "import nltk\n",
    "from nltk.sentiment.vader import SentimentIntensityAnalyzer\n",
    "from transformers import pipeline\n",
    "from sklearn.linear_model import LinearRegression\n",
    "from datetime import timedelta\n",
    "\n",
    "# Download VADER lexicon for sentiment analysis (if not already downloaded)\n",
    "nltk.download('vader_lexicon')\n",
    "\n",
    "# Load the CSV data (ensure the file path is correct relative to this notebook)\n",
    "df = pd.read_csv('otsego_data_combined.csv', parse_dates=['timestamp'])\n",
    "# Convert timestamps to datetime and drop any rows with invalid or missing dates\n",
    "df['timestamp'] = pd.to_datetime(df['timestamp'], errors='coerce')\n",
    "df = df[df['timestamp'].notnull()].copy()\n",
    "# Ensure the post content is a string and handle missing content\n",
    "df['content'] = df['content'].fillna(\"\").astype(str)\n",
    "\n",
    "# Initialize VADER sentiment analyzer and compute compound sentiment for each post\n",
    "vader = SentimentIntensityAnalyzer()\n",
    "df['vader_compound'] = df['content'].apply(lambda text: vader.polarity_scores(text)['compound'])\n",
    "\n",
    "# Initialize a BERT sentiment analysis pipeline (pre-trained model)\n",
    "bert_pipeline = pipeline(\"sentiment-analysis\", model=\"nlptown/bert-base-multilingual-uncased-sentiment\")\n",
    "\n",
    "# Helper function to convert BERT's star rating output into a -1 to 1 compound score\n",
    "def get_bert_compound(text):\n",
    "    \"\"\"\n",
    "    Uses the BERT sentiment pipeline to get a star rating (1 to 5 stars) for the text,\n",
    "    then maps that rating to a compound score between -1 (negative) and 1 (positive).\n",
    "    \"\"\"\n",
    "    result = bert_pipeline(text)        # e.g., [{'label': '4 stars', 'score': 0.85}]\n",
    "    label = result[0]['label']          # e.g., \"4 stars\"\n",
    "    rating = int(label.split()[0])      # extract the numeric rating (1-5)\n",
    "    # Map 1-> -1.0, 2-> -0.5, 3-> 0.0, 4-> 0.5, 5-> 1.0\n",
    "    compound = (rating - 3) / 2.0\n",
    "    return compound\n",
    "\n",
    "# Apply BERT sentiment analysis to each post (this may take a few minutes for the whole dataset)\n",
    "df['bert_compound'] = df['content'].apply(get_bert_compound)\n",
    "\n",
    "# Preview the data with new sentiment columns\n",
    "print(df[['timestamp', 'content', 'vader_compound', 'bert_compound']].head(5))\n"
   ]
  },
  {
   "cell_type": "markdown",
   "id": "380ed7b7-e246-4112-aff2-c59e3610a4ad",
   "metadata": {},
   "source": [
    "Output: The DataFrame df now has two new columns (vader_compound and bert_compound) with sentiment scores for each post. Each score ranges from -1 (very negative) to 1 (very positive). At this point, we have sentiment analyses ready for visualization. Next, we will aggregate these sentiment scores by date and prepare a simple forecast."
   ]
  },
  {
   "cell_type": "code",
   "execution_count": null,
   "id": "e415788b-0f92-4866-883a-b4934fad4875",
   "metadata": {},
   "outputs": [],
   "source": [
    "# Create a date column (without time) for daily aggregation\n",
    "df['date'] = df['timestamp'].dt.date\n",
    "\n",
    "# Aggregate daily average sentiment for VADER and BERT\n",
    "daily_vader = df.groupby('date')['vader_compound'].mean().reset_index()\n",
    "daily_vader.rename(columns={'vader_compound': 'avg_compound'}, inplace=True)\n",
    "daily_bert = df.groupby('date')['bert_compound'].mean().reset_index()\n",
    "daily_bert.rename(columns={'bert_compound': 'avg_compound'}, inplace=True)\n",
    "\n",
    "# Define a function to forecast sentiment trend using linear regression\n",
    "def forecast_sentiment(daily_df, forecast_until=\"2026-12-31\"):\n",
    "    \"\"\"\n",
    "    Fit a simple linear regression on the daily average sentiment scores and \n",
    "    project the trend forward to the specified end date.\n",
    "    \"\"\"\n",
    "    # Convert dates to ordinal (numeric) form for regression\n",
    "    daily_df = daily_df.copy()\n",
    "    daily_df['date_ordinal'] = pd.to_datetime(daily_df['date']).apply(lambda d: d.toordinal())\n",
    "    X = daily_df['date_ordinal'].values.reshape(-1, 1)\n",
    "    y = daily_df['avg_compound'].values\n",
    "    model = LinearRegression()\n",
    "    model.fit(X, y)\n",
    "    # Create future dates from the day after the last observed date up to forecast_until\n",
    "    last_date = pd.to_datetime(daily_df['date'].max())\n",
    "    future_dates = pd.date_range(start=last_date + timedelta(days=1), end=pd.to_datetime(forecast_until))\n",
    "    if len(future_dates) == 0:\n",
    "        return pd.DataFrame(columns=['date', 'predicted_compound'])  # no future dates to forecast\n",
    "    # Predict sentiment for future dates\n",
    "    future_ordinals = np.array([d.toordinal() for d in future_dates]).reshape(-1, 1)\n",
    "    predicted = model.predict(future_ordinals)\n",
    "    future_df = pd.DataFrame({'date': future_dates.date, 'predicted_compound': predicted})\n",
    "    return future_df\n",
    "\n",
    "# Generate forecast dataframes for VADER and BERT sentiment trends\n",
    "future_vader = forecast_sentiment(daily_vader)\n",
    "future_bert = forecast_sentiment(daily_bert)\n"
   ]
  },
  {
   "cell_type": "code",
   "execution_count": null,
   "id": "28d924a8-849a-4b8e-87c3-fb01dac131e9",
   "metadata": {},
   "outputs": [],
   "source": [
    "import torch\n",
    "print(torch.__version__)"
   ]
  },
  {
   "cell_type": "markdown",
   "id": "b03ba3ca-ae9f-4def-86e6-66472d36e6ea",
   "metadata": {},
   "source": [
    "In the code above, we:\n",
    "\n",
    "- Grouped the data by date to compute the daily average sentiment score for each method.\n",
    "- Built a simple linear regression model for each to project future sentiment trends. The forecast extends from the last date in the dataset through the end of 2026.\n",
    "  \n",
    "Now that we have both historical daily sentiment and a forecast, we can create our figures."
   ]
  },
  {
   "cell_type": "markdown",
   "id": "c9aac6f1-b524-41ba-9d60-a901f95a8ba4",
   "metadata": {},
   "source": [
    "## 4. Generate and Export Visualizations"
   ]
  },
  {
   "cell_type": "markdown",
   "id": "9e78d2fd-3408-4d2c-8ade-dde7ff74f741",
   "metadata": {},
   "source": [
    "We will create three figures to summarize the sentiment analysis results. "
   ]
  },
  {
   "cell_type": "markdown",
   "id": "8b6ea525-dff8-431f-a25f-1f543fbb658e",
   "metadata": {},
   "source": [
    "**Figure 1 (Sentiment Trend & Forecast)**\n",
    "Description: This figure shows the trend of average daily sentiment over time for the Facebook posts, using two different sentiment analysis methods. We plot the historical daily sentiment (solid line) and a linear forecast (dashed line) side by side for VADER and BERT. This visualization is used in the project presentation to illustrate how sentiment in the group has changed over time and to project future sentiment direction into 2026.\n",
    "python\n",
    "Copy"
   ]
  },
  {
   "cell_type": "code",
   "execution_count": null,
   "id": "4f837f13-3026-4607-b194-bb9b7fb27719",
   "metadata": {},
   "outputs": [],
   "source": [
    "# Create the figures directory if it doesn't exist\n",
    "import os\n",
    "os.makedirs('figures', exist_ok=True)\n",
    "\n",
    "# Plot side-by-side sentiment trends for VADER and BERT, including forecasts\n",
    "fig, axs = plt.subplots(1, 2, figsize=(16, 6), sharey=True)\n",
    "\n",
    "# VADER Sentiment Trend\n",
    "axs[0].plot(daily_vader['date'], daily_vader['avg_compound'], marker='o', label='Historical')\n",
    "if not future_vader.empty:\n",
    "    axs[0].plot(future_vader['date'], future_vader['predicted_compound'], marker='x', linestyle='--', label='Forecast')\n",
    "axs[0].set_xlabel('Date', fontsize=12)\n",
    "axs[0].set_ylabel('Average Compound Sentiment', fontsize=12)\n",
    "axs[0].set_title('VADER Sentiment Trend & Forecast', fontsize=14)\n",
    "axs[0].set_ylim(-1, 1)  # sentiment score range\n",
    "# Mark threshold lines for slight positive/negative sentiment\n",
    "axs[0].axhline(y=0.05, color='gray', linestyle='--', linewidth=1)\n",
    "axs[0].axhline(y=-0.05, color='gray', linestyle='--', linewidth=1)\n",
    "axs[0].grid(True)\n",
    "axs[0].legend(fontsize=10)\n",
    "\n",
    "# Add labels for sentiment regions (using last date position as reference)\n",
    "last_date = daily_vader['date'].iloc[-1]\n",
    "axs[0].text(last_date, 0.08, 'Positive (>=0.05)', color='green', fontsize=10)\n",
    "axs[0].text(last_date, -0.02, 'Neutral', color='blue', fontsize=10)\n",
    "axs[0].text(last_date, -0.10, 'Negative (<=-0.05)', color='red', fontsize=10)\n",
    "\n",
    "# BERT Sentiment Trend\n",
    "axs[1].plot(daily_bert['date'], daily_bert['avg_compound'], marker='o', label='Historical')\n",
    "if not future_bert.empty:\n",
    "    axs[1].plot(future_bert['date'], future_bert['predicted_compound'], marker='x', linestyle='--', label='Forecast')\n",
    "axs[1].set_xlabel('Date', fontsize=12)\n",
    "axs[1].set_title('BERT Sentiment Trend & Forecast', fontsize=14)\n",
    "axs[1].set_ylim(-1, 1)\n",
    "# Same threshold lines for BERT plot\n",
    "axs[1].axhline(y=0.05, color='gray', linestyle='--', linewidth=1)\n",
    "axs[1].axhline(y=-0.05, color='gray', linestyle='--', linewidth=1)\n",
    "axs[1].grid(True)\n",
    "axs[1].legend(fontsize=10)\n",
    "\n",
    "plt.tight_layout()\n",
    "# Save the figure to file\n",
    "plt.savefig('experiments/figures/sentiment_trend_forecast.png')\n",
    "plt.show()\n"
   ]
  },
  {
   "cell_type": "markdown",
   "id": "3a8b4503-ade6-432a-81dd-0d61128c3edf",
   "metadata": {},
   "source": [
    "The Sentiment Trend figure above (saved as figures/sentiment_trend_forecast.png) has two panels: the left is VADER sentiment over time (with forecast), and the right is BERT sentiment over time (with forecast). The horizontal dashed lines at 0.05 and -0.05 indicate a near-neutral range, with values above considered slightly positive and below considered slightly negative. We can see the overall sentiment trajectory and how it might continue if current trends persist."
   ]
  },
  {
   "cell_type": "markdown",
   "id": "2ac041eb-dcbd-4555-86aa-a53608ad057b",
   "metadata": {},
   "source": [
    "**Figure 2 (VADER vs. BERT Scatter)**\n",
    "Description: This scatter plot compares the sentiment scores produced by VADER and BERT for each individual Facebook post. Each point represents a single post, positioned by its VADER compound score (x-axis) and BERT compound score (y-axis). A red dashed diagonal line is drawn where y = x (i.e., points on this line would indicate equal sentiment scores by both methods). This figure is used in the final presentation to assess the agreement between the two sentiment analysis approaches – points clustering along the diagonal indicate that VADER and BERT often concur on sentiment, whereas deviations indicate differences in sentiment assessment."
   ]
  },
  {
   "cell_type": "code",
   "execution_count": null,
   "id": "2f1b5a27-fb25-4c70-b1b3-087b427e0dd8",
   "metadata": {},
   "outputs": [],
   "source": [
    "plt.figure(figsize=(8, 6))\n",
    "plt.scatter(df['vader_compound'], df['bert_compound'], alpha=0.6, edgecolors='none')\n",
    "plt.xlabel('VADER Compound Score', fontsize=12)\n",
    "plt.ylabel('BERT Compound Score', fontsize=12)\n",
    "plt.title('VADER vs. BERT Sentiment Scores per Post', fontsize=14)\n",
    "plt.grid(True)\n",
    "\n",
    "# Diagonal reference line (y = x) for visualizing agreement\n",
    "lims = [-1, 1]\n",
    "plt.plot(lims, lims, 'r--', linewidth=1)\n",
    "\n",
    "plt.xlim(lims)\n",
    "plt.ylim(lims)\n",
    "plt.tight_layout()\n",
    "# Save the scatter plot\n",
    "plt.savefig('experiments/figures/sentiment_scatter_vader_vs_bert.png')\n",
    "plt.show()\n"
   ]
  },
  {
   "cell_type": "markdown",
   "id": "f5c03eec-3a86-46aa-b9b8-488389b0d16c",
   "metadata": {},
   "source": [
    "The Sentiment Comparison Scatter above (saved as figures/sentiment_scatter_vader_vs_bert.png) helps validate our analysis by showing how similarly (or differently) the two methods rated each post. "
   ]
  },
  {
   "cell_type": "markdown",
   "id": "dd500dca-68f5-4b6f-bf89-5f9a0d688e5a",
   "metadata": {},
   "source": [
    "**Figure 3 (Sentiment Distributions)**\n",
    "Description: The final figure shows the distribution of sentiment scores across all posts for each method. We plot two side-by-side histograms: one for VADER compound scores and one for BERT compound scores. This provides an overview of how many posts fall into positive, neutral, or negative sentiment ranges. This figure is included in the final presentation to illustrate the overall sentiment polarity of the group’s content."
   ]
  },
  {
   "cell_type": "code",
   "execution_count": null,
   "id": "8500f880-f671-47cd-88d2-5c8d22c7eb3e",
   "metadata": {},
   "outputs": [],
   "source": [
    "fig, (ax1, ax2) = plt.subplots(1, 2, figsize=(14, 6), sharey=True)\n",
    "\n",
    "# Histogram for VADER sentiment scores\n",
    "ax1.hist(df['vader_compound'], bins=20, color='skyblue', edgecolor='black')\n",
    "ax1.set_title('VADER Sentiment Distribution', fontsize=14)\n",
    "ax1.set_xlabel('VADER Compound Score', fontsize=12)\n",
    "ax1.set_ylabel('Number of Posts', fontsize=12)\n",
    "ax1.set_xlim(-1, 1)\n",
    "ax1.grid(True)\n",
    "\n",
    "# Histogram for BERT sentiment scores\n",
    "ax2.hist(df['bert_compound'], bins=20, color='salmon', edgecolor='black')\n",
    "ax2.set_title('BERT Sentiment Distribution', fontsize=14)\n",
    "ax2.set_xlabel('BERT Compound Score', fontsize=12)\n",
    "ax2.set_xlim(-1, 1)\n",
    "ax2.grid(True)\n",
    "\n",
    "plt.tight_layout()\n",
    "# Save the histogram figure\n",
    "plt.savefig('experiments/figures/sentiment_score_distribution.png')\n",
    "plt.show()\n"
   ]
  },
  {
   "cell_type": "markdown",
   "id": "2a9d864b-50e7-4b58-a1df-19067f5fe75b",
   "metadata": {},
   "source": [
    "The Sentiment Distribution figure above (saved as figures/sentiment_score_distribution.png) reveals how sentiments are spread out. For example, you might observe a concentration of posts around 0.0 (neutral sentiment), with fewer posts at the extreme positive or negative ends. Comparing the two histograms can also show if one method tends to give more neutral vs. extreme scores than the other. In our analysis, both VADER and BERT histograms show the overall sentiment leaning and variability in the Facebook posts."
   ]
  },
  {
   "cell_type": "markdown",
   "id": "01f33983-6f73-4726-ac13-0509077b9795",
   "metadata": {},
   "source": [
    "**Figure 4 (Box Plots of Sentiment by Day of Week)** Description: This figure summarizes the number of posts categorized as Positive, Neutral, or Negative by day of week, using VADER sentiment scores."
   ]
  },
  {
   "cell_type": "code",
   "execution_count": null,
   "id": "519edcbf-0778-443c-9751-bd00c7605532",
   "metadata": {},
   "outputs": [],
   "source": [
    "# Boxplots of VADER and BERT scores grouped by day of week\n",
    "days_order = [\"Monday\", \"Tuesday\", \"Wednesday\", \"Thursday\", \"Friday\", \"Saturday\", \"Sunday\"]\n",
    "df['day_of_week'] = pd.Categorical(df['timestamp'].dt.day_name(), categories=days_order, ordered=True)\n",
    "\n",
    "vader_box_data = [df.loc[df['day_of_week'] == day, 'vader_compound'].dropna() for day in days_order]\n",
    "bert_box_data = [df.loc[df['day_of_week'] == day, 'bert_compound'].dropna() for day in days_order]\n",
    "\n",
    "fig, axs = plt.subplots(1, 2, figsize=(16, 6), sharey=True)\n",
    "axs[0].boxplot(vader_box_data, labels=days_order)\n",
    "axs[0].set_title(\"VADER Compound Scores by Day of Week\")\n",
    "axs[0].set_xlabel(\"Day of Week\")\n",
    "axs[0].set_ylabel(\"Compound Score\")\n",
    "axs[0].grid(True)\n",
    "\n",
    "axs[1].boxplot(bert_box_data, labels=days_order)\n",
    "axs[1].set_title(\"BERT Compound Scores by Day of Week\")\n",
    "axs[1].set_xlabel(\"Day of Week\")\n",
    "axs[1].grid(True)\n",
    "\n",
    "plt.tight_layout()\n",
    "plt.savefig('experiments/figures/sentiment_boxplots_by_day.png')\n",
    "plt.show()\n"
   ]
  },
  {
   "cell_type": "markdown",
   "id": "caca182e-fa0d-4b5d-bba5-e91c6f7db4d4",
   "metadata": {},
   "source": [
    "The Sentiment Distribution figure above reveals how sentiments are spread out. For example, you might observe a concentration of posts around 0.0 (neutral sentiment), with fewer posts at the extreme positive or negative ends. Comparing the two histograms can also show if one method tends to give more neutral vs. extreme scores than the other. In our analysis, both VADER and BERT histograms show the overall sentiment leaning and variability in the Facebook posts."
   ]
  },
  {
   "cell_type": "markdown",
   "id": "b4c1a6de-6a65-426c-89d4-80226ca7b582",
   "metadata": {},
   "source": [
    "**Figure 5 (VADER Sentiment Categories by Day)** Decription: These visualizations extend our analysis of sentiment scores by breaking them down by day of the week. These figures help us understand how sentiment changes based on time context."
   ]
  },
  {
   "cell_type": "code",
   "execution_count": null,
   "id": "525f105f-ce61-4021-b405-a3b5e5eb3d87",
   "metadata": {},
   "outputs": [],
   "source": [
    "# Categorize VADER sentiment\n",
    "def categorize(score):\n",
    "    if score >= 0.05:\n",
    "        return 'Positive'\n",
    "    elif score <= -0.05:\n",
    "        return 'Negative'\n",
    "    else:\n",
    "        return 'Neutral'\n",
    "\n",
    "df['vader_category'] = df['vader_compound'].apply(categorize)\n",
    "\n",
    "pivot = df.groupby('day_of_week')['vader_category'].value_counts().unstack().fillna(0).loc[days_order]\n",
    "pivot.plot(kind='bar', stacked=True, figsize=(10, 6), colormap='viridis')\n",
    "plt.title(\"VADER Sentiment Categories by Day of Week\")\n",
    "plt.xlabel(\"Day of Week\")\n",
    "plt.ylabel(\"Number of Posts\")\n",
    "plt.legend(title=\"Sentiment Category\")\n",
    "plt.grid(True, axis='y')\n",
    "plt.tight_layout()\n",
    "plt.savefig('experiments/figures/vader_sentiment_stacked_bar_by_day.png')\n",
    "plt.show()\n"
   ]
  },
  {
   "cell_type": "markdown",
   "id": "ad178552-00e0-4471-8174-21f9b0003f67",
   "metadata": {},
   "source": [
    "This stacked bar chart provides a breakdown of sentiment categories—**Positive**, **Neutral**, and **Negative**—for each day of the week using the VADER sentiment scores. It helps visualize how the emotional tone of Facebook posts fluctuates throughout the week. For example, you can observe whether weekends tend to have more positive posts or if certain weekdays see spikes in negativity. The height of each stacked bar represents the total number of posts for that day, while the colored segments indicate how those posts are distributed across the sentiment categories.\n"
   ]
  },
  {
   "cell_type": "markdown",
   "id": "ed2f9f0b-8747-4235-ada5-39babfc7677b",
   "metadata": {},
   "source": [
    "## 5. Figure Usage\n",
    "\n",
    "These figures are used in the final project presentation and in the report’s results section to support our findings:\n",
    "\n",
    "- **Figure 1 (Sentiment Trend & Forecast)**: Included in the final presentation and report to discuss how sentiment in the group has evolved and the projected future trend.\n",
    "  - File: `experiments/figures/sentiment_trend_forecast.png`\n",
    "\n",
    "- **Figure 2 (VADER vs. BERT Scatter)**: Included in the presentation and report to demonstrate the consistency between two different sentiment analysis techniques. This supports the methodology by showing that both tools yield comparable results for most posts.\n",
    "  - File: `experiments/figures/sentiment_scatter_vader_vs_bert.png`\n",
    "\n",
    "- **Figure 3 (Sentiment Distributions)**: Used in the presentation and report to provide an overview of the overall sentiment breakdown. It highlights the proportion of posts that are neutral, positive, or negative in tone.\n",
    "  - File: `experiments/figures/sentiment_score_distribution.png`\n",
    "\n",
    "- **Figure 4 (Box Plots of Sentiment by Day of Week)**: Included in the presentation and report to analyze how sentiment varies throughout the week. This figure supports temporal sentiment insights.\n",
    "  - File: `experiments/figures/sentiment_boxplots_by_day.png`\n",
    "\n",
    "- **Figure 5 (VADER Sentiment Categories by Day)**: Used in the presentation and report to show trends in emotional tone by weekday. Helps identify patterns such as whether posts become more positive or negative on specific days.\n",
    "  - File: `experiments/figures/vader_sentiment_stacked_bar_by_day.png`\n"
   ]
  },
  {
   "cell_type": "markdown",
   "id": "5d0e4de7-5813-4247-9aeb-933d6e2394e1",
   "metadata": {},
   "source": [
    "## 6. Notes\n",
    "\n",
    "- If real-time scraping is not feasible, ensure `otsego_good_maybe.csv` is updated and stored in the `data/` directory before running this notebook.\n"
   ]
  }
 ],
 "metadata": {
  "kernelspec": {
   "display_name": ".venv",
   "language": "python",
   "name": "python3"
  },
  "language_info": {
   "codemirror_mode": {
    "name": "ipython",
    "version": 3
   },
   "file_extension": ".py",
   "mimetype": "text/x-python",
   "name": "python",
   "nbconvert_exporter": "python",
   "pygments_lexer": "ipython3",
   "version": "3.13.1"
  }
 },
 "nbformat": 4,
 "nbformat_minor": 5
}
